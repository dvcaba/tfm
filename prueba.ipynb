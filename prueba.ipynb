{
 "cells": [
  {
   "cell_type": "code",
   "execution_count": null,
   "id": "ee0d1f89",
   "metadata": {},
   "outputs": [],
   "source": [
    "# pip install -r requirements.txt"
   ]
  },
  {
   "cell_type": "code",
   "execution_count": 1,
   "id": "f22482d3",
   "metadata": {},
   "outputs": [
    {
     "name": "stdout",
     "output_type": "stream",
     "text": [
      "2.7.1+cpu\n",
      "False\n"
     ]
    },
    {
     "name": "stderr",
     "output_type": "stream",
     "text": [
      "c:\\Users\\User\\Desktop\\tfm\\agente2\\.venv\\Lib\\site-packages\\tqdm\\auto.py:21: TqdmWarning: IProgress not found. Please update jupyter and ipywidgets. See https://ipywidgets.readthedocs.io/en/stable/user_install.html\n",
      "  from .autonotebook import tqdm as notebook_tqdm\n",
      "c:\\Users\\User\\Desktop\\tfm\\agente2\\.venv\\Lib\\site-packages\\huggingface_hub\\file_download.py:943: FutureWarning: `resume_download` is deprecated and will be removed in version 1.0.0. Downloads always resume when possible. If you want to force a new download, use `force_download=True`.\n",
      "  warnings.warn(\n",
      "W0622 23:55:35.812000 33160 Lib\\site-packages\\torch\\distributed\\elastic\\multiprocessing\\redirects.py:29] NOTE: Redirects are currently not supported in Windows or MacOs.\n"
     ]
    },
    {
     "name": "stdout",
     "output_type": "stream",
     "text": [
      "{'label': 'Neutral', 'confidence': 0.5732, 'probabilities': {'Negative': 0.0267, 'Neutral': 0.5732, 'Positive': 0.4001}}\n",
      "{'precision': {'accuracy': 0.7244382937154021, 'macro avg': 0.7220946539955357, 'weighted avg': 0.7254132779593281}, 'recall': {'accuracy': 0.7244382937154021, 'macro avg': 0.7275378975399002, 'weighted avg': 0.7244382937154021}, 'f1-score': {'accuracy': 0.7244382937154021, 'macro avg': 0.7239042159699788, 'weighted avg': 0.723917943090183}, 'support': {'accuracy': 0.7244382937154021, 'macro avg': 12284.0, 'weighted avg': 12284.0}}\n",
      "{'confusion_matrix_path': 'results/conf_matrix_finetuned.png'}\n"
     ]
    }
   ],
   "source": [
    "import torch\n",
    "print(torch.__version__)              # Debe mostrar 2.3.0+cu121\n",
    "print(torch.cuda.is_available())     # Debe ser True\n",
    "\n",
    "\n",
    "\n",
    "from agent.nodes.predictor import predict_sentiment\n",
    "print(predict_sentiment(\"Me encanta este producto, es increíble.\"))\n",
    "\n",
    "from agent.nodes.evaluator import get_model_metrics\n",
    "print(get_model_metrics())\n",
    "\n",
    "from agent.nodes.visualizer import get_confusion_matrix\n",
    "print(get_confusion_matrix())\n"
   ]
  },
  {
   "cell_type": "code",
   "execution_count": null,
   "id": "d6255b06",
   "metadata": {},
   "outputs": [],
   "source": [
    "\n"
   ]
  },
  {
   "cell_type": "code",
   "execution_count": null,
   "id": "f0eca7eb",
   "metadata": {},
   "outputs": [],
   "source": []
  }
 ],
 "metadata": {
  "kernelspec": {
   "display_name": ".venv",
   "language": "python",
   "name": "python3"
  },
  "language_info": {
   "codemirror_mode": {
    "name": "ipython",
    "version": 3
   },
   "file_extension": ".py",
   "mimetype": "text/x-python",
   "name": "python",
   "nbconvert_exporter": "python",
   "pygments_lexer": "ipython3",
   "version": "3.12.9"
  }
 },
 "nbformat": 4,
 "nbformat_minor": 5
}
